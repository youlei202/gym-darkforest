{
 "cells": [
  {
   "cell_type": "code",
   "execution_count": 1,
   "metadata": {
    "collapsed": true
   },
   "outputs": [],
   "source": [
    "import gym\n",
    "from gym import error, spaces, utils\n",
    "from gym.utils import seeding\n",
    "\n",
    "class MyClient:\n",
    "\n",
    "    total_budget = 500\n",
    "\n",
    "    def __init__(self):\n",
    "        self.latency = [1, 1, 1]\n",
    "\n",
    "        self.controller = ArrivalController(latency_list = self.latency)\n",
    "\n",
    "        self.purchase_budget = 140\n",
    "        self.transfer_budget = [ 15, 15, 15, 15, 15, 15, 15, 15, 15, 15,\n",
    "                                 15, 15, 15, 15, 15, 15, 15, 15, 15, 15,\n",
    "                                 15, 15, 15, 15\n",
    "                               ]\n",
    "\n",
    "        # We must have purchase_budget + transfer_budget <= total_budget !\n",
    "\n",
    "    def get_state(self):\n",
    "        return self.latency\n",
    "\n",
    "    def execute(self, action): # action is in the exactly same format as state\n",
    "        if sum(action) > MyClient.total_budget:\n",
    "            self.purchase_budget = 0\n",
    "            self.transfer_budget = [0 for i in range(ArrivalController.slot_num)]\n",
    "        self.purchase_budget = action[0]\n",
    "        self.transfer_budget = action[1:ArrivalController.slot_num+1]\n",
    "\n",
    "        self.controller.set_latency(self.latency)\n",
    "\n",
    "        d = self.controller.get_arrival_users()\n",
    "        P = self.purchase_budget\n",
    "        C = self.transfer_budget\n",
    "\n",
    "        problem = Problem(d,P,C)\n",
    "        result = problem.solve()\n",
    "\n",
    "        reward = result[0]\n",
    "        x = result[1]\n",
    "        self.latency = map(lambda x: sum(x)/ArrivalController.slot_num,\n",
    "                           np.divide( np.array(d), np.array(x) ) )\n",
    "        return reward\n",
    "\n",
    "class DarkForstEnv(gym.Env):\n",
    "    metadata = {'render.modes': ['human']}\n",
    "    max_step = 10\n",
    "\n",
    "    def __init__(self):\n",
    "        self.client = MyClient()\n",
    "        self.step_index = 0\n",
    "\n",
    "    def _step(self, action):\n",
    "        \n",
    "        reward = self.client.execute(action)\n",
    "        ob = self.client.get_state()\n",
    "        \n",
    "        self.step_index += 1\n",
    "        \n",
    "        episode_over = False\n",
    "        if self.step_index >= DarkForestEnv.max_step:\n",
    "            episode_over = True\n",
    "            self.step_index = 0\n",
    "            \n",
    "        return ob, reward, episode_over, {}\n",
    "    \n",
    "    \n",
    "    def _reset(self):\n",
    "        state = self.client.get_state()\n",
    "        return state\n",
    "\n",
    "    def _render(self, mode='human', close=False):\n",
    "        pass"
   ]
  },
  {
   "cell_type": "code",
   "execution_count": 1,
   "metadata": {},
   "outputs": [
    {
     "name": "stdout",
     "output_type": "stream",
     "text": [
      "[NbConvertApp] Converting notebook darkforest_env.ipynb to script\n",
      "[NbConvertApp] Writing 2238 bytes to darkforest_env.py\n"
     ]
    }
   ],
   "source": [
    "# !jupyter nbconvert --to script darkforest_env.ipynb"
   ]
  },
  {
   "cell_type": "code",
   "execution_count": null,
   "metadata": {
    "collapsed": true
   },
   "outputs": [],
   "source": []
  }
 ],
 "metadata": {
  "kernelspec": {
   "display_name": "Python 2",
   "language": "python",
   "name": "python2"
  },
  "language_info": {
   "codemirror_mode": {
    "name": "ipython",
    "version": 2
   },
   "file_extension": ".py",
   "mimetype": "text/x-python",
   "name": "python",
   "nbconvert_exporter": "python",
   "pygments_lexer": "ipython2",
   "version": "2.7.13"
  }
 },
 "nbformat": 4,
 "nbformat_minor": 2
}
